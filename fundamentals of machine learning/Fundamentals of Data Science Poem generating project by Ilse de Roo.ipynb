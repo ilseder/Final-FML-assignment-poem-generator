{
 "cells": [
  {
   "cell_type": "markdown",
   "id": "9c9da164",
   "metadata": {},
   "source": [
    "# New poems of Rupi Kaur \n",
    "\n",
    "This notebook presents an artificial intelligence (AI) project that generates new poems using GPT-2, a language generation model. The project is based on the poems of Rupi Kaur, a popular contemporary poet known for her simple yet powerful language and themes of love, self-empowerment, and healing. The poems of Rupi Kaur that are used in this project are from the books: *The sun and her flowers* and *Milk and honey*. The goal of the project is to explore the potential of AI to generate new poetry that is stylistically similar to Kaur's work and to investigate the creative possibilities of AI-generated poetry. The notebook will provide an overview of the project's methodology, results, and conclusions. "
   ]
  },
  {
   "cell_type": "markdown",
   "id": "9a478c38",
   "metadata": {},
   "source": [
    "## References used in this project\n",
    "During the creation of this Jupyter notebook, multiple resources have been consulted. The resources that contrubuted the most during the project are the following:   \n",
    "- The code used for importing all of the libraries and functions, visualizing and training the code are from the lessons and they are adjusted to the needs of the project. \n",
    "- The inspiration for the project, preparing the data set, training the model and generated the new poems are from: Scott Duda https://scottmduda.medium.com/generating-an-edgar-allen-poe-styled-poem-using-gpt-2-289801ded82c. The code is adjusted \n",
    "- The code used for tokenizing and better understanding generating poems with pre-trained models are from: Jesse Chan https://keras.io/examples/generative/text_generation_gpt/\n",
    "- For deeper understanding the information about machine learning and how to build and train a model the book the book: *Deep Learning with Python* by François Chollet was consulted "
   ]
  },
  {
   "cell_type": "code",
   "execution_count": 5,
   "id": "5abca904",
   "metadata": {},
   "outputs": [
    {
     "name": "stdout",
     "output_type": "stream",
     "text": [
      "Requirement already satisfied: transformers in c:\\users\\ilsed\\anaconda3\\lib\\site-packages (4.26.0)\n",
      "Requirement already satisfied: filelock in c:\\users\\ilsed\\anaconda3\\lib\\site-packages (from transformers) (3.6.0)\n",
      "Requirement already satisfied: tokenizers!=0.11.3,<0.14,>=0.11.1 in c:\\users\\ilsed\\anaconda3\\lib\\site-packages (from transformers) (0.13.2)\n",
      "Requirement already satisfied: numpy>=1.17 in c:\\users\\ilsed\\anaconda3\\lib\\site-packages (from transformers) (1.21.5)\n",
      "Requirement already satisfied: requests in c:\\users\\ilsed\\anaconda3\\lib\\site-packages (from transformers) (2.28.1)\n",
      "Requirement already satisfied: tqdm>=4.27 in c:\\users\\ilsed\\anaconda3\\lib\\site-packages (from transformers) (4.64.1)\n",
      "Requirement already satisfied: regex!=2019.12.17 in c:\\users\\ilsed\\anaconda3\\lib\\site-packages (from transformers) (2022.7.9)\n",
      "Requirement already satisfied: huggingface-hub<1.0,>=0.11.0 in c:\\users\\ilsed\\anaconda3\\lib\\site-packages (from transformers) (0.11.1)\n",
      "Requirement already satisfied: packaging>=20.0 in c:\\users\\ilsed\\anaconda3\\lib\\site-packages (from transformers) (21.3)\n",
      "Requirement already satisfied: pyyaml>=5.1 in c:\\users\\ilsed\\anaconda3\\lib\\site-packages (from transformers) (6.0)\n",
      "Requirement already satisfied: typing-extensions>=3.7.4.3 in c:\\users\\ilsed\\anaconda3\\lib\\site-packages (from huggingface-hub<1.0,>=0.11.0->transformers) (4.3.0)\n",
      "Requirement already satisfied: pyparsing!=3.0.5,>=2.0.2 in c:\\users\\ilsed\\anaconda3\\lib\\site-packages (from packaging>=20.0->transformers) (3.0.9)\n",
      "Requirement already satisfied: colorama in c:\\users\\ilsed\\anaconda3\\lib\\site-packages (from tqdm>=4.27->transformers) (0.4.5)\n",
      "Requirement already satisfied: idna<4,>=2.5 in c:\\users\\ilsed\\anaconda3\\lib\\site-packages (from requests->transformers) (3.3)\n",
      "Requirement already satisfied: urllib3<1.27,>=1.21.1 in c:\\users\\ilsed\\anaconda3\\lib\\site-packages (from requests->transformers) (1.26.11)\n",
      "Requirement already satisfied: certifi>=2017.4.17 in c:\\users\\ilsed\\anaconda3\\lib\\site-packages (from requests->transformers) (2022.9.14)\n",
      "Requirement already satisfied: charset-normalizer<3,>=2 in c:\\users\\ilsed\\anaconda3\\lib\\site-packages (from requests->transformers) (2.0.4)\n",
      "Requirement already satisfied: torch in c:\\users\\ilsed\\anaconda3\\lib\\site-packages (1.13.1)\n",
      "Requirement already satisfied: typing-extensions in c:\\users\\ilsed\\anaconda3\\lib\\site-packages (from torch) (4.3.0)\n"
     ]
    }
   ],
   "source": [
    "#Transformers need to be installed to be able to use languages models later in this project\n",
    "!pip install transformers\n",
    "!pip install torch"
   ]
  },
  {
   "cell_type": "code",
   "execution_count": 6,
   "id": "f5a67579",
   "metadata": {},
   "outputs": [],
   "source": [
    "#First, all of the libraries and functions that will be need are loaded to explorer, visualize and train the model and define some constants that are being used.\n",
    "import numpy as np\n",
    "import pandas as pd \n",
    "\n",
    "import random\n",
    "import time\n",
    "import datetime\n",
    "\n",
    "import seaborn as sns #this is the plotting library I'll be using \n",
    "import matplotlib.pyplot as plt #we need Matplotlib for setting the labels in the Seaborn graphs\n",
    "import math\n",
    "from sklearn.linear_model import LinearRegression #all important of sk-learn\n",
    "\n",
    "import torch\n",
    "from transformers import GPT2Tokenizer, GPT2LMHeadModel, GPT2Config, AdamW, get_linear_schedule_with_warmup\n",
    "from torch.utils.data import Dataset, random_split, DataLoader, RandomSampler, SequentialSampler"
   ]
  },
  {
   "cell_type": "code",
   "execution_count": 9,
   "id": "55b43468",
   "metadata": {},
   "outputs": [
    {
     "data": {
      "text/html": [
       "<div>\n",
       "<style scoped>\n",
       "    .dataframe tbody tr th:only-of-type {\n",
       "        vertical-align: middle;\n",
       "    }\n",
       "\n",
       "    .dataframe tbody tr th {\n",
       "        vertical-align: top;\n",
       "    }\n",
       "\n",
       "    .dataframe thead th {\n",
       "        text-align: right;\n",
       "    }\n",
       "</style>\n",
       "<table border=\"1\" class=\"dataframe\">\n",
       "  <thead>\n",
       "    <tr style=\"text-align: right;\">\n",
       "      <th></th>\n",
       "      <th>Author</th>\n",
       "      <th>Book</th>\n",
       "      <th>Poem</th>\n",
       "      <th>Kolom1</th>\n",
       "    </tr>\n",
       "  </thead>\n",
       "  <tbody>\n",
       "    <tr>\n",
       "      <th>0</th>\n",
       "      <td>Rupi Kaur</td>\n",
       "      <td>The sun and her flowers</td>\n",
       "      <td>bees came for honey flowers giggled as they un...</td>\n",
       "      <td>NaN</td>\n",
       "    </tr>\n",
       "    <tr>\n",
       "      <th>1</th>\n",
       "      <td>Rupi Kaur</td>\n",
       "      <td>The sun and her flowers</td>\n",
       "      <td>on the last day of love my heart cracked insid...</td>\n",
       "      <td>NaN</td>\n",
       "    </tr>\n",
       "    <tr>\n",
       "      <th>2</th>\n",
       "      <td>Rupi Kaur</td>\n",
       "      <td>The sun and her flowers</td>\n",
       "      <td>i spent the entire night casting spells to bri...</td>\n",
       "      <td>NaN</td>\n",
       "    </tr>\n",
       "    <tr>\n",
       "      <th>3</th>\n",
       "      <td>Rupi Kaur</td>\n",
       "      <td>The sun and her flowers</td>\n",
       "      <td>i stuffed a towel at the foot of every door le...</td>\n",
       "      <td>NaN</td>\n",
       "    </tr>\n",
       "    <tr>\n",
       "      <th>4</th>\n",
       "      <td>Rupi Kaur</td>\n",
       "      <td>The sun and her flowers</td>\n",
       "      <td>you left and i wanted you still yet i deserved...</td>\n",
       "      <td>NaN</td>\n",
       "    </tr>\n",
       "  </tbody>\n",
       "</table>\n",
       "</div>"
      ],
      "text/plain": [
       "      Author                     Book  \\\n",
       "0  Rupi Kaur  The sun and her flowers   \n",
       "1  Rupi Kaur  The sun and her flowers   \n",
       "2  Rupi Kaur  The sun and her flowers   \n",
       "3  Rupi Kaur  The sun and her flowers   \n",
       "4  Rupi Kaur  The sun and her flowers   \n",
       "\n",
       "                                                Poem  Kolom1  \n",
       "0  bees came for honey flowers giggled as they un...     NaN  \n",
       "1  on the last day of love my heart cracked insid...     NaN  \n",
       "2  i spent the entire night casting spells to bri...     NaN  \n",
       "3  i stuffed a towel at the foot of every door le...     NaN  \n",
       "4  you left and i wanted you still yet i deserved...     NaN  "
      ]
     },
     "execution_count": 9,
     "metadata": {},
     "output_type": "execute_result"
    }
   ],
   "source": [
    "# Load the data from the Excel file if running on google colab\n",
    "#from google.colab import drive\n",
    "#drive.mount('/content/gdrive')\n",
    "# the file is in the drive\n",
    "#poems_df = pd.read_excel('/content/gdrive/My Drive/RupiKaur.xlsx')\n",
    "\n",
    "poems_df = pd.read_excel(\"RupiKaur.xlsx\")\n",
    "poems_df.head()\n",
    "\n",
    "#Now the basis of this project in imported."
   ]
  },
  {
   "cell_type": "code",
   "execution_count": 10,
   "id": "9e25a6aa",
   "metadata": {},
   "outputs": [
    {
     "name": "stdout",
     "output_type": "stream",
     "text": [
      "The biggest poem contains 643 words.\n",
      "The smallest poem contains 5 words.\n"
     ]
    }
   ],
   "source": [
    "poems_df['totalwords'] = poems_df['Poem'].str.count(' ') + 1\n",
    " \n",
    "# Calculating which poem contains the most and least poems\n",
    "biggest=(poems_df.totalwords.max())\n",
    "smallest=(poems_df.totalwords.min())\n",
    "\n",
    "print('The biggest poem contains', biggest, 'words.')\n",
    "print('The smallest poem contains', smallest, 'words.')"
   ]
  },
  {
   "cell_type": "code",
   "execution_count": 11,
   "id": "a1695d56",
   "metadata": {},
   "outputs": [
    {
     "name": "stdout",
     "output_type": "stream",
     "text": [
      "The median amount of words in a poem is: 26.0 words\n",
      "The mean amount of words in a poem is: 57.44126074498568 words \n"
     ]
    },
    {
     "name": "stderr",
     "output_type": "stream",
     "text": [
      "C:\\Users\\ilsed\\anaconda3\\lib\\site-packages\\seaborn\\distributions.py:2619: FutureWarning: `distplot` is a deprecated function and will be removed in a future version. Please adapt your code to use either `displot` (a figure-level function with similar flexibility) or `histplot` (an axes-level function for histograms).\n",
      "  warnings.warn(msg, FutureWarning)\n"
     ]
    },
    {
     "data": {
      "image/png": "[encoded data removed]",
      "text/plain": [
       "<Figure size 640x480 with 1 Axes>"
      ]
     },
     "metadata": {},
     "output_type": "display_data"
    }
   ],
   "source": [
    "mean_size = poems_df['totalwords'].mean()\n",
    "median_size = poems_df['totalwords'].median()\n",
    "\n",
    "print(f'The median amount of words in a poem is: {median_size} words')\n",
    "print(f'The mean amount of words in a poem is: {mean_size} words ')\n",
    "\n",
    "sns.distplot(poems_df['totalwords'].dropna(), kde=False)\n",
    "plt.title('Mean amount of words in the poems of Rupi Kaur')\n",
    "plt.axvline(median_size, 0, 100, color='green', label='median') #This adds a vertical line at x-position median_size, from y = 0 to y = 100 \n",
    "plt.axvline(mean_size, 0, 100, color='blue', label='mean') \n",
    "plt.legend() #This adds a legend. It works automatically because the labels are set in the previous lines\n",
    "plt.show()"
   ]
  },
  {
   "cell_type": "markdown",
   "id": "82229dd8",
   "metadata": {},
   "source": [
    "Some things to note about this distribution:\n",
    "\n",
    "It has 1 peaks (unimodal) The words have a 'tail' on the right which makes this graph (right-skewed) Because the mean is higher than the median and the median is higher than the mode.\n",
    "\n",
    "The data is as expedted not normally distributed.\n",
    "\n",
    "I want to take a look at the mean and median and plot them in the graph\n",
    "\n"
   ]
  },
  {
   "cell_type": "code",
   "execution_count": 12,
   "id": "c059e62b",
   "metadata": {},
   "outputs": [
    {
     "name": "stderr",
     "output_type": "stream",
     "text": [
      "C:\\Users\\ilsed\\anaconda3\\lib\\site-packages\\seaborn\\_decorators.py:36: FutureWarning: Pass the following variable as a keyword arg: x. From version 0.12, the only valid positional argument will be `data`, and passing other arguments without an explicit keyword will result in an error or misinterpretation.\n",
      "  warnings.warn(\n"
     ]
    },
    {
     "data": {
      "image/png": "[encoded data removed]",
      "text/plain": [
       "<Figure size 640x480 with 1 Axes>"
      ]
     },
     "metadata": {},
     "output_type": "display_data"
    }
   ],
   "source": [
    "sns.boxplot(poems_df['totalwords'])\n",
    "plt.title('Mean words of the poems')\n",
    "plt.xlabel('Amount of words')\n",
    "plt.show()"
   ]
  },
  {
   "cell_type": "code",
   "execution_count": 13,
   "id": "004ce0eb",
   "metadata": {},
   "outputs": [
    {
     "data": {
      "text/plain": [
       "count    349.000000\n",
       "mean      57.441261\n",
       "std       83.099823\n",
       "min        5.000000\n",
       "25%       16.000000\n",
       "50%       26.000000\n",
       "75%       62.000000\n",
       "max      643.000000\n",
       "Name: totalwords, dtype: float64"
      ]
     },
     "execution_count": 13,
     "metadata": {},
     "output_type": "execute_result"
    }
   ],
   "source": [
    "poems_df['totalwords'].describe()"
   ]
  },
  {
   "cell_type": "markdown",
   "id": "28beb3b9",
   "metadata": {},
   "source": [
    "It is observed that 75% of the poems contain 62 words or less, while the remaining 25% contain between 62 and 643 words. This indicates that a majority of the poems are relatively short, with only a limited number being considered \"bigger\".\n",
    "\n",
    "A boxplot reveals the presence of several outliers, specifically those poems containing approximately more than 125 words.\n",
    "\n",
    "This information will be used in future efforts to improve the quality of generated poems.\n",
    "\n",
    "In earlier analyses, the entire dataset of poems was examined. However, it is important to note that the dataset is composed of two books. Further analyses will focus on the differences between these two books."
   ]
  },
  {
   "cell_type": "code",
   "execution_count": 14,
   "id": "25c82723",
   "metadata": {},
   "outputs": [
    {
     "name": "stdout",
     "output_type": "stream",
     "text": [
      "The sun and her flowers contain 214 poems.\n",
      "Milk and honey contain 133 poems.\n"
     ]
    }
   ],
   "source": [
    "# Discovering how may poems each book have\n",
    "tsanhf=(poems_df['Book'].value_counts()['The sun and her flowers'])\n",
    "mah=(poems_df['Book'].value_counts()['Milk and honey'])\n",
    "\n",
    "print('The sun and her flowers contain', tsanhf, 'poems.')\n",
    "print('Milk and honey contain', mah, 'poems.')"
   ]
  },
  {
   "cell_type": "code",
   "execution_count": 15,
   "id": "5ea4ac9c",
   "metadata": {},
   "outputs": [
    {
     "data": {
      "text/plain": [
       "<AxesSubplot:xlabel='Book', ylabel='totalwords'>"
      ]
     },
     "execution_count": 15,
     "metadata": {},
     "output_type": "execute_result"
    },
    {
     "data": {
      "image/png": "[encoded data removed]",
      "text/plain": [
       "<Figure size 640x480 with 1 Axes>"
      ]
     },
     "metadata": {},
     "output_type": "display_data"
    }
   ],
   "source": [
    "sns.boxplot(data=poems_df, x=\"Book\", y=\"totalwords\")"
   ]
  },
  {
   "cell_type": "code",
   "execution_count": 16,
   "id": "83e82a46",
   "metadata": {},
   "outputs": [
    {
     "data": {
      "text/plain": [
       "<seaborn.axisgrid.FacetGrid at 0x22c6d2f5d30>"
      ]
     },
     "execution_count": 16,
     "metadata": {},
     "output_type": "execute_result"
    },
    {
     "data": {
      "image/png": "[encoded data removed]",
      "text/plain": [
       "<Figure size 600x300 with 2 Axes>"
      ]
     },
     "metadata": {},
     "output_type": "display_data"
    }
   ],
   "source": [
    "g = sns.FacetGrid(poems_df, col=\"Book\")\n",
    "g.map(sns.histplot, \"totalwords\")"
   ]
  },
  {
   "cell_type": "markdown",
   "id": "51cdda3a",
   "metadata": {},
   "source": [
    "It can be seen that the book Milk and honey contains less poems, there is a difference of 81 poems. Besides the difference in amount of poems, the book Milk and honey also contains less words and has less outliers.\n",
    "\n",
    "A boxplot reveals that the median and mean of words per poem is closer in Milk and honey. The median and mean of words per poem is bigger in The sun and her flowers the standard deviation is bigger here.\n",
    "\n"
   ]
  },
  {
   "cell_type": "code",
   "execution_count": null,
   "id": "01690525",
   "metadata": {},
   "outputs": [],
   "source": [
    "RANDOM_SEED = 42\n",
    "BATCH_SIZE = 2 #the total number of training examples present in a single batch\n",
    "EPOCHS = 8 #the times an entire dataset is passed forward and backward through the neural network\n",
    "MAX_LEN = 125 #to generate better poems the max lenght is set to 125, so the model will not generate poems that fall under the catogorie \"ourliers\""
   ]
  },
  {
   "cell_type": "markdown",
   "id": "7a6a9513",
   "metadata": {},
   "source": [
    "## Tokenization\n",
    "Preprocessing the dataset by tokenizing "
   ]
  },
  {
   "cell_type": "code",
   "execution_count": null,
   "id": "c5ac03f5",
   "metadata": {},
   "outputs": [],
   "source": [
    "# a GPT-2 tokenizer is being instantiated. This initializes the tokenizer with the pre-trained vocabulary and tokenization rules of the GPT-2 model.\n",
    "tokenizer = GPT2Tokenizer.from_pretrained('gpt2')\n",
    "special_tokens_dict = {\n",
    "    'bos_token': '<BOS>', \n",
    "    'eos_token': '<EOS>', \n",
    "    'pad_token': '<PAD>'}\n",
    "num_added_tokens = tokenizer.add_special_tokens(special_tokens_dict) #returns the number of added tokens"
   ]
  },
  {
   "cell_type": "code",
   "execution_count": null,
   "id": "752ca6ca",
   "metadata": {},
   "outputs": [],
   "source": [
    "class PoemsDataset(Dataset): # prepare and format the input data for training and evaluating\n",
    "    def __init__(self, data, tokenizer, gpt2_type='gpt2', max_length=MAX_LEN): # the input data is tokenized using the tokenizer \n",
    "        self.tokenizer = tokenizer\n",
    "        self.input_ids = []\n",
    "        self.attn_masks = []\n",
    "        \n",
    "        for i in data:\n",
    "            encodings_dict = tokenizer('<BOS>' + i + '<EOS>',\n",
    "                                     truncation=True,\n",
    "                                     max_length=max_length,\n",
    "                                     padding='max_length')\n",
    "\n",
    "            self.input_ids.append(torch.tensor(encodings_dict['input_ids']))\n",
    "            self.attn_masks.append(torch.tensor(encodings_dict['attention_mask']))\n",
    "\n",
    "    def __len__(self): # returns the number of samples in the dataset\n",
    "        return len(self.input_ids)\n",
    "    \n",
    "    def __getitem__(self, idx):\n",
    "        return self.input_ids[idx], self.attn_masks[idx]\n",
    "        \n",
    "poems_dataset = PoemsDataset(poems_df['Poem'].values, tokenizer, max_length=MAX_LEN) # This creates the dataset object that can be used for training or evaluating models."
   ]
  },
  {
   "cell_type": "markdown",
   "id": "115bb138",
   "metadata": {},
   "source": [
    "## Preparing data for training and validation of model\n",
    "The purpose of this code is to prepare the data for training and validation of a model."
   ]
  },
  {
   "cell_type": "code",
   "execution_count": null,
   "id": "f2482288",
   "metadata": {},
   "outputs": [],
   "source": [
    "def train_val_split(split, dataset): # takes in a dataset and a split ratio, and is used to split the dataset into a train and validation set\n",
    "    train_size = int(split * len(dataset))\n",
    "    val_size = len(dataset) - train_size\n",
    "    return train_size, val_size\n",
    "poems_train_size, poems_val_size = train_val_split(0.8, poems_dataset)\n",
    "poems_train_dataset, poems_val_dataset = random_split(poems_dataset, [poems_train_size, poems_val_size])"
   ]
  },
  {
   "cell_type": "code",
   "execution_count": null,
   "id": "90d5a8bd",
   "metadata": {},
   "outputs": [],
   "source": [
    "torch.cuda.manual_seed_all(RANDOM_SEED) #CUDA is used to make sure that the computations done on the GPU are reproducible.\n",
    "random.seed(RANDOM_SEED) #ensures that the results of the computations will be reproducible across different runs of the program, allowing for better analysis\n",
    "np.random.seed(RANDOM_SEED) #initialization of model parameters\n",
    "torch.manual_seed(RANDOM_SEED)"
   ]
  },
  {
   "cell_type": "code",
   "execution_count": null,
   "id": "91c3a4f9",
   "metadata": {},
   "outputs": [],
   "source": [
    "# This code creates two PyTorch data loaders, poems_train_dataloader and poems_val_dataloader, for the poems_train_dataset and poems_val_dataset\n",
    "poems_train_dataloader = DataLoader(poems_train_dataset,\n",
    "                              sampler=RandomSampler(poems_train_dataset), # this ensures that the model sees different examples in each epoch\n",
    "                              batch_size=BATCH_SIZE)\n",
    "\n",
    "poems_val_dataloader = DataLoader(poems_val_dataset,\n",
    "                            sampler=SequentialSampler(poems_val_dataset), # valadation uses the SequentialSampler class, this is useful for evaluation as it allows us to see the model's performance on a dataset in a deterministic way\n",
    "                            batch_size=BATCH_SIZE)"
   ]
  },
  {
   "cell_type": "code",
   "execution_count": null,
   "id": "70e1cb2c",
   "metadata": {},
   "outputs": [],
   "source": [
    "# helper function for logging time, takes in the elapsed time in seconds\n",
    "def format_time(elapsed):\n",
    "    return str(datetime.timedelta(seconds=int(round((elapsed)))))\n",
    "\n",
    "# hyperparameters\n",
    "learning_rate = 1e-4\n",
    "eps = 1e-8\n",
    "warmup_steps = 50\n",
    "\n",
    "# creates text generation seed prompt\n",
    "device = torch.device('cuda')\n",
    "\n",
    "prompt = \"<BOS>\" # the special token that indicates the beginning of a sequence\n",
    "generated = torch.tensor(tokenizer.encode(prompt)).unsqueeze(0)\n",
    "generated = generated.to(device)"
   ]
  },
  {
   "cell_type": "markdown",
   "id": "3adb626b",
   "metadata": {},
   "source": [
    "## Fine-tuning the GPT-2 model\n",
    "Fine-tuning the pre-trained GPT-2 model with the poems of Rupi Kaur."
   ]
  },
  {
   "cell_type": "code",
   "execution_count": null,
   "id": "d242fdf8",
   "metadata": {},
   "outputs": [],
   "source": [
    "# a configuration object is created for the GPT-2 model, and initializing the model with pre-trained weights from the 'gpt2' model.\n",
    "configuration = GPT2Config(vocab_size=len(tokenizer), n_positions=MAX_LEN).from_pretrained('gpt2', output_hidden_states=True)\n",
    "\n",
    "poem_model = GPT2LMHeadModel.from_pretrained('gpt2', config=configuration) #creating a GPT-2LMHeadModel object using the specified configuration and pre-trained weights\n",
    "poem_model.resize_token_embeddings(len(tokenizer))\n",
    "\n",
    "poem_model.cuda() # moving the model to the GPU for faster training\n",
    "optimizer = AdamW(poem_model.parameters(), lr=learning_rate, eps=eps)\n",
    "\n",
    "totalSteps = len(poems_train_dataloader) * EPOCHS #creating a scheduler to adjust the learning rate during training\n",
    "scheduler = get_linear_schedule_with_warmup(optimizer, # gradually increases the learning rate during the first warmup_steps, then keeps it constant\n",
    "                                            num_warmup_steps=warmup_steps,\n",
    "                                            num_training_steps=totalSteps)\n",
    "\n",
    "startTime = time.time()\n",
    "poem_model = poem_model.to(device)\n",
    "\n",
    "#In each epoch, the model's parameters are updated by passing the input, labels, and masks through the model and computing the loss. The gradients are then calculated and the optimizer takes a step. The scheduler also takes a step to adjust the learning rate\n",
    "for epoch_i in range(0, EPOCHS):\n",
    "\n",
    "    print(f'Epoch {epoch_i + 1} of {EPOCHS}')\n",
    "\n",
    "    t0 = time.time()\n",
    "    total_train_loss = 0\n",
    "    poem_model.train()\n",
    "\n",
    "    for step, batch in enumerate(poems_train_dataloader):\n",
    "\n",
    "        b_input_ids = batch[0].to(device)\n",
    "        b_labels = batch[0].to(device)\n",
    "        b_masks = batch[1].to(device)\n",
    "\n",
    "        poem_model.zero_grad()        \n",
    "\n",
    "        outputs = poem_model(b_input_ids,\n",
    "                                    labels=b_labels,\n",
    "                                    attention_mask=b_masks,\n",
    "                                    token_type_ids=None)\n",
    "\n",
    "        loss = outputs[0]  \n",
    "\n",
    "        batch_loss = loss.item()\n",
    "        total_train_loss += batch_loss\n",
    "\n",
    "        loss.backward()\n",
    "        optimizer.step()\n",
    "        scheduler.step()\n",
    "\n",
    "    avg_train_loss = total_train_loss / len(poems_train_dataloader) #calculating the training loss       \n",
    "    training_time = format_time(time.time() - t0)\n",
    "\n",
    "    print(f'Average Training Loss: {avg_train_loss}. Epoch Training Time: {training_time}')\n",
    "\n",
    "    t0 = time.time()\n",
    "\n",
    "    poem_model.eval()\n",
    "\n",
    "    total_eval_loss = 0\n",
    "    nb_eval_steps = 0\n",
    "\n",
    "    for batch in poems_val_dataloader:\n",
    "        b_input_ids = batch[0].to(device)\n",
    "        b_labels = batch[0].to(device)\n",
    "        b_masks = batch[1].to(device)\n",
    "\n",
    "        with torch.no_grad():        \n",
    "\n",
    "            outputs  = poem_model(b_input_ids,\n",
    "                                         attention_mask=b_masks,\n",
    "                                         labels=b_labels)\n",
    "\n",
    "            loss = outputs[0]  \n",
    "\n",
    "        batch_loss = loss.item()\n",
    "        total_eval_loss += batch_loss        \n",
    "\n",
    "    avg_val_loss = total_eval_loss / len(poems_val_dataloader) #calculating the valadation loss\n",
    "\n",
    "\n",
    "    print(f'Average Validation Loss: {avg_val_loss}')\n",
    "\n",
    "print(f'Total Training Time: {format_time(time.time()-startTime)}')\n",
    "\n",
    "torch.save(poem_model.state_dict(), '/content/gdrive/My Drive/' + 'poem_model.pth')"
   ]
  },
  {
   "cell_type": "markdown",
   "id": "358fce8d",
   "metadata": {},
   "source": [
    "## Results of training\n",
    "The results of the last training \n",
    "\n",
    "Epoch 1 of 8\n",
    "Average Training Loss: 10.282820536409105. Epoch Training Time: 0:00:04\n",
    "Average Validation Loss: 2.2413592073652477\n",
    "\n",
    "Epoch 2 of 8\n",
    "Average Training Loss: 2.026493946143559. Epoch Training Time: 0:00:04\n",
    "Average Validation Loss: 1.8695632484224107\n",
    "\n",
    "Epoch 3 of 8\n",
    "Average Training Loss: 1.7970576456614904. Epoch Training Time: 0:00:04\n",
    "Average Validation Loss: 1.7665826214684381\n",
    "\n",
    "Epoch 4 of 8\n",
    "Average Training Loss: 1.678679405791419. Epoch Training Time: 0:00:04\n",
    "Average Validation Loss: 1.7220232254929013\n",
    "\n",
    "Epoch 5 of 8\n",
    "Average Training Loss: 1.5901322398866926. Epoch Training Time: 0:00:04\n",
    "Average Validation Loss: 1.6928914222452376\n",
    "\n",
    "Epoch 6 of 8\n",
    "Average Training Loss: 1.544407148020608. Epoch Training Time: 0:00:04\n",
    "Average Validation Loss: 1.667143036921819\n",
    "\n",
    "Epoch 7 of 8\n",
    "Average Training Loss: 1.5098074998174396. Epoch Training Time: 0:00:04\n",
    "Average Validation Loss: 1.6705826653374567\n",
    "\n",
    "Epoch 8 of 8\n",
    "Average Training Loss: 1.483797058888844. Epoch Training Time: 0:00:04\n",
    "Average Validation Loss: 1.656847957107756\n",
    "\n",
    "Total Training Time: 0:00:33\n",
    "\n",
    "###### The average training loss measures the average error of the model's predictions on the training data, while the average validation loss measures the average error of the model's predictions on a separate validation set. \n",
    "**The training loss and validation is a bit high especially in the first epoch, this can indicate that the model is not at its best at making predictions on both the training and validation data. The Training an test loss is also higher of the lenght. In the first epoch the poems longer than 125 words are also removed. \n",
    "The validation loss is not significantly higher than the training loss, this indicates that the model is not overfitting.**"
   ]
  },
  {
   "cell_type": "markdown",
   "id": "479935a4",
   "metadata": {},
   "source": [
    "## Generating the new poems\n",
    "The code sets the model to evaluation mode by calling the eval() method on the poems_model."
   ]
  },
  {
   "cell_type": "code",
   "execution_count": null,
   "id": "6c21e9d8",
   "metadata": {},
   "outputs": [],
   "source": [
    "# this code sets the model to evaluation mode, generates new poem sequences based on the seed prompt using the generate method of the model, and prints the generated poems by decoding the token IDs back to the original text\n",
    "poem_model.eval() #sets model to evaluation mode\n",
    "\n",
    "sample_outputs = poem_model.generate(   # generates new poems based on the seed prompt created earlier.\n",
    "                                generated, \n",
    "                                do_sample=True,   \n",
    "                                top_k=50, \n",
    "                                max_length=63,\n",
    "                                top_p=0.95, \n",
    "                                num_return_sequences=10\n",
    "                                )\n",
    "\n",
    "for i, sample_output in enumerate(sample_outputs):\n",
    "    print(\"{}: {}\\n\\n\".format(i, tokenizer.decode(sample_output, skip_special_tokens=True)))"
   ]
  },
  {
   "cell_type": "markdown",
   "id": "0a9eb664",
   "metadata": {},
   "source": [
    "## Some results \n",
    "In the document \"All generated poems\" is an overview of all poems that were saved after generating. The first generated poems were not saved, the lines were mostly empty, single letters and eventially single words. After changing the code a few times I succesfully generated some poems.\n",
    "\n",
    "In this notebook a few will be shared. First the worst three are shared. And as last the best bigger poems and the best smaller poems (in my opinion).\n",
    "\n",
    "#### The worst 3 generated poems\n",
    "1. \n",
    "2. -----------------------------------------------------------------------------------------------------------------------------------------------------------------------------------------------------------------------------------------------------------------------------------------------------------------------------------------------------------------------------------------------------------------------------------------------------------------------------------------------------------------------------------------------------------------------------------------------------------------------------------------------------------------------------------------------------------------------------------------------------------------------------------------------------------------------------------------------------------------------------------------------------------------------------------------------------------------------------------------------------------------------------------------------------------------------------------------------------------------------------------------------------------------------------\n",
    "3. to be made whole—that is their name— — that is their name— — that is their love— — that isn’t their name— — that doesn’t bother’t me— — that does’t bother me— — that is not my name— ’tries to’t try to’t understand me— — that’s what’s so important’s to you— — that is not my name— ’tries to leave me— — that is not my home— ’tries to be a man— ’tries to protect us— — is not your home— ’tries to tell you— — that isn’t mine— — that is your name— ’tries to give you satisfaction— ’tries to teach you— — that makes sense’t— ’tries to take you—’s place— ’tries to see you’s face— ’tries— — and’tries to keep you— ’tries— ——in a dream’t— —’tries to keep me— ’tries— ’tries— ——until you’t’d—’d— ’tried to tell me— ’tried to tell me— ’tried’t— ’tried’t— —to’t take you—and’tll’t’d— ’tried— ’tried to tell me—’tried to tell me— —’tried— —and’tried—’d— ’tried’t— ’tried— ’tried—and’tried— and’tried to’t’d— ’tried’t— —to look for the perfect partner—and’tried’t— —to search for a way out’t— ’tried—to find your lover—and’t’d— ’tried’t— ’tried— to find your magic— ’tried’t— ’tried— ’tried’t— to find the perfect woman—and’t’d— ’tried—’tried— ’tried to find you—and’t’d—’d’d’d ’tried—’tried’t— to carry you—and�\n",
    "\n",
    "#### Best bigger poems\n",
    "1. i tell you it is okay as you are living your life in the most unbreakable frame of mind you can ever feel like living with an    emotion that will\n",
    "   i am a little bit broken by these flowers i am so happy i am so relieved when our bodies meet at the same time\n",
    "2. toward the end of the conversation i am listening to you in your ears too. as if listening to you on your skin is a    reflection of what you want. the sun is a reflection on your body like it was a reflection of what you were. i am growing more than you have seen before.\n",
    "3. the time between the death of one and the end of another is the age of doubt when the answer arrives and the question comes back that questions always remain unanswerable when the question arrives - to the question of how we ever learned the answer\n",
    "\n",
    "\n",
    "#### Best smaller poems \n",
    "1. the whole universe- is so empty\n",
    "2. a second to rise and fall i’m placing myself in his lap - i do not wish there were flowers\n",
    "3. this is not how it is supposed to be happening \n",
    "   the sun will rise again\n",
    "\n"
   ]
  },
  {
   "cell_type": "markdown",
   "id": "99544e2f",
   "metadata": {},
   "source": [
    "## Conclusion\n",
    "\n",
    "In conclusion, training a model to generate poems in the style of Rupi Kaur presented several challenges due to the high variation in poem length and the lack of structure in the original poems. \n",
    "Despite these difficulties, through experimentation with different values and adjustments to the code, the model was able to generate poems that closely mimicked Kaur's writing style and subject matter. However, it is important to note that the evaluation of poetry is subjective and can vary greatly depending on personal taste and interpretation.\n",
    "\n",
    "The most crucial factors in fine-tuning the model were the Epochs, batch size, and maximum length. It is difficult to quantitatively measure the final generated poems, but the model was to capture Kaur's unique style and the subject matter of her poems. Additionally, by fine-tuning the model with a specific author's work, it has the potential to be applied to other authors and styles of poetry in the future.\n",
    "\n",
    "\n",
    "As last, here are a few of my favorite poems:\n",
    "- I was not born i was a woman who tried her best to be an honest woman and have an honest heart but i decided to become a monster\n",
    "- My body is so strong i cant breath i can barely\n",
    "- The whole universe- is so empty\n",
    "- A second to rise and fall i’m placing myself in his lap - i do not wish there were flowers\n",
    "- The time between the death of one and the end of another is the age of doubt when the answer arrives and the question comes back that questions always remain unanswerable when the question arrives - to the question of how we ever learned the answer\n",
    "- A person as the living body of the universe\n",
    "- When someone says she likes you.you are my sister and i am yours but i am not yours you are so much more than yours or mine but i am yours\n"
   ]
  },
  {
   "cell_type": "markdown",
   "id": "7feb4fd3",
   "metadata": {},
   "source": [
    "## Discusion\n",
    "\n",
    "In this course, the opportunities of machine learning and artificial intelligence were explorered and in this project I dived in the topic of text generating. One of the main challenges of poetry generation is that poetry is considered an art form and is there for subject to individual interpretation and personal taste.\n",
    "\n",
    "Despite these challenges, a model was able to be trained that closely mimicked Kaur's writing style and subject matter through experimentation with different values and adjustments to the code. Through this process, I gained valuable insights into the working of machine learning and artificial intelligence. On the other hand I gained valuable insights in coding, poetry and dealing with setbacks.\n",
    "\n",
    "Furthermore, I like to note how neural networks can be related to the process of poetry generation. The neural networks are trained on quite small dataset of a specific author's work, and the model's ability to capture the author's unique style and subject matter is a testament to its effectiveness. Additionally, by fine-tuning the model with new books and training it on topics it has the potential to be better applied and better generating in the future, just like how neural networks can be fine-tuned for different tasks.\n",
    "\n",
    "For continued research in this area, it would be beneficial to work with a larger data set and with larger text fragments in order to better train the model and generate better poems. Additionally, it would also be interesting to explore training the models on different subjects in order to generate new poems on those specific subjects. Overall, this study has provided valuable insights into the potential of machine learning and artificial intelligence."
   ]
  }
 ],
 "metadata": {
  "kernelspec": {
   "display_name": "Python 3 (ipykernel)",
   "language": "python",
   "name": "python3"
  },
  "language_info": {
   "codemirror_mode": {
    "name": "ipython",
    "version": 3
   },
   "file_extension": ".py",
   "mimetype": "text/x-python",
   "name": "python",
   "nbconvert_exporter": "python",
   "pygments_lexer": "ipython3",
   "version": "3.9.13"
  }
 },
 "nbformat": 4,
 "nbformat_minor": 5
}
